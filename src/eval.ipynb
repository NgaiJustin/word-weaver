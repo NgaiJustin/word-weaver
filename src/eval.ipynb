{
 "cells": [
  {
   "cell_type": "code",
   "execution_count": 53,
   "metadata": {},
   "outputs": [],
   "source": [
    "import pandas as pd\n",
    "from tqdm import tqdm"
   ]
  },
  {
   "cell_type": "code",
   "execution_count": 46,
   "metadata": {},
   "outputs": [],
   "source": [
    "gpt4_secret_key = \"\""
   ]
  },
  {
   "cell_type": "code",
   "execution_count": 47,
   "metadata": {},
   "outputs": [],
   "source": [
    "from openai import OpenAI\n",
    "client = OpenAI(api_key=gpt4_secret_key)\n",
    "\n",
    "response = client.chat.completions.create(\n",
    "  model=\"gpt-4\",\n",
    "  messages=[\n",
    "    {\"role\": \"system\", \"content\": \"You are a helpful assistant.\"},\n",
    "    {\"role\": \"user\", \"content\": \"Who won the world series in 2020?\"},\n",
    "    {\"role\": \"assistant\", \"content\": \"The Los Angeles Dodgers won the World Series in 2020.\"},\n",
    "    {\"role\": \"user\", \"content\": \"Where was it played?\"}\n",
    "  ]\n",
    ")"
   ]
  },
  {
   "cell_type": "code",
   "execution_count": 51,
   "metadata": {},
   "outputs": [
    {
     "data": {
      "text/plain": [
       "'The 2020 World Series was played in Arlington, Texas at the Globe Life Field, which was the new home stadium for the Texas Rangers.'"
      ]
     },
     "execution_count": 51,
     "metadata": {},
     "output_type": "execute_result"
    }
   ],
   "source": [
    "# response.choices[0].message.content"
   ]
  },
  {
   "cell_type": "code",
   "execution_count": null,
   "metadata": {},
   "outputs": [
    {
     "data": {
      "text/html": [
       "<div>\n",
       "<style scoped>\n",
       "    .dataframe tbody tr th:only-of-type {\n",
       "        vertical-align: middle;\n",
       "    }\n",
       "\n",
       "    .dataframe tbody tr th {\n",
       "        vertical-align: top;\n",
       "    }\n",
       "\n",
       "    .dataframe thead th {\n",
       "        text-align: right;\n",
       "    }\n",
       "</style>\n",
       "<table border=\"1\" class=\"dataframe\">\n",
       "  <thead>\n",
       "    <tr style=\"text-align: right;\">\n",
       "      <th></th>\n",
       "      <th>Word</th>\n",
       "      <th>Meaning</th>\n",
       "      <th>Examples/0</th>\n",
       "      <th>Examples/1</th>\n",
       "      <th>Results</th>\n",
       "    </tr>\n",
       "  </thead>\n",
       "  <tbody>\n",
       "    <tr>\n",
       "      <th>0</th>\n",
       "      <td>bilip</td>\n",
       "      <td>to change or influence</td>\n",
       "      <td>if the boy had known skipping class would nega...</td>\n",
       "      <td>gail’s parents limit her television time becau...</td>\n",
       "      <td>to affect or affect</td>\n",
       "    </tr>\n",
       "    <tr>\n",
       "      <th>1</th>\n",
       "      <td>derst</td>\n",
       "      <td>to be of advantage or use</td>\n",
       "      <td>stranded in the desert, jake tried to restart ...</td>\n",
       "      <td>the medicine will not derst the patient if it ...</td>\n",
       "      <td>to cause something to be taken</td>\n",
       "    </tr>\n",
       "    <tr>\n",
       "      <th>2</th>\n",
       "      <td>ician</td>\n",
       "      <td>detailed and careful</td>\n",
       "      <td>a ician investigation of the crime brought out...</td>\n",
       "      <td>the detailer is always ician when cleaning my ...</td>\n",
       "      <td>able to be done with precision</td>\n",
       "    </tr>\n",
       "    <tr>\n",
       "      <th>3</th>\n",
       "      <td>redis</td>\n",
       "      <td>conduct</td>\n",
       "      <td>explaining that his redis was unacceptable, th...</td>\n",
       "      <td>rewards for good redis helped the wayward chil...</td>\n",
       "      <td>a good attitude or attitude</td>\n",
       "    </tr>\n",
       "    <tr>\n",
       "      <th>4</th>\n",
       "      <td>celint</td>\n",
       "      <td>to give up or give in</td>\n",
       "      <td>although jerry gave up smoking, there is alway...</td>\n",
       "      <td>sarah is so vain she thinks every man will cel...</td>\n",
       "      <td>to change something or something</td>\n",
       "    </tr>\n",
       "    <tr>\n",
       "      <th>...</th>\n",
       "      <td>...</td>\n",
       "      <td>...</td>\n",
       "      <td>...</td>\n",
       "      <td>...</td>\n",
       "      <td>...</td>\n",
       "    </tr>\n",
       "    <tr>\n",
       "      <th>1271</th>\n",
       "      <td>thwor</td>\n",
       "      <td>the size or length of something</td>\n",
       "      <td>the seamstress guessed the thwor of the man’s ...</td>\n",
       "      <td>because the thwor of the shelf was off, it cou...</td>\n",
       "      <td>the length of something that is a part of some...</td>\n",
       "    </tr>\n",
       "    <tr>\n",
       "      <th>1272</th>\n",
       "      <td>enesis</td>\n",
       "      <td>to clarify something so it can be understood</td>\n",
       "      <td>the police officer could not enesisthe deaf wo...</td>\n",
       "      <td>on the trip, we needed a guide to enesisthe fo...</td>\n",
       "      <td>to speak or speak something</td>\n",
       "    </tr>\n",
       "    <tr>\n",
       "      <th>1273</th>\n",
       "      <td>mulosy</td>\n",
       "      <td>the rate or speed of music or some other activity</td>\n",
       "      <td>speeding up the mulosy, the street musician at...</td>\n",
       "      <td>keeping mulosy with the drummer, the singer ma...</td>\n",
       "      <td>a song that is played faster or faster</td>\n",
       "    </tr>\n",
       "    <tr>\n",
       "      <th>1274</th>\n",
       "      <td>rously</td>\n",
       "      <td>a large area where crops are grown</td>\n",
       "      <td>the slaves labored on the cotton rously while ...</td>\n",
       "      <td>if the rously owner cannot find laborers to pi...</td>\n",
       "      <td>a cotton cotton slack that is used to make a h...</td>\n",
       "    </tr>\n",
       "    <tr>\n",
       "      <th>1275</th>\n",
       "      <td>calbul</td>\n",
       "      <td>performed too rapidly</td>\n",
       "      <td>because the roofer performed a calbulrepair jo...</td>\n",
       "      <td>this is a very important task so please do not...</td>\n",
       "      <td>a very important task</td>\n",
       "    </tr>\n",
       "  </tbody>\n",
       "</table>\n",
       "<p>1276 rows × 5 columns</p>\n",
       "</div>"
      ],
      "text/plain": [
       "        Word                                            Meaning  \\\n",
       "0      bilip                             to change or influence   \n",
       "1      derst                          to be of advantage or use   \n",
       "2      ician                               detailed and careful   \n",
       "3      redis                                            conduct   \n",
       "4     celint                              to give up or give in   \n",
       "...      ...                                                ...   \n",
       "1271   thwor                    the size or length of something   \n",
       "1272  enesis      to clarify something so it can be understood    \n",
       "1273  mulosy  the rate or speed of music or some other activity   \n",
       "1274  rously                 a large area where crops are grown   \n",
       "1275  calbul                              performed too rapidly   \n",
       "\n",
       "                                             Examples/0  \\\n",
       "0     if the boy had known skipping class would nega...   \n",
       "1     stranded in the desert, jake tried to restart ...   \n",
       "2     a ician investigation of the crime brought out...   \n",
       "3     explaining that his redis was unacceptable, th...   \n",
       "4     although jerry gave up smoking, there is alway...   \n",
       "...                                                 ...   \n",
       "1271  the seamstress guessed the thwor of the man’s ...   \n",
       "1272  the police officer could not enesisthe deaf wo...   \n",
       "1273  speeding up the mulosy, the street musician at...   \n",
       "1274  the slaves labored on the cotton rously while ...   \n",
       "1275  because the roofer performed a calbulrepair jo...   \n",
       "\n",
       "                                             Examples/1  \\\n",
       "0     gail’s parents limit her television time becau...   \n",
       "1     the medicine will not derst the patient if it ...   \n",
       "2     the detailer is always ician when cleaning my ...   \n",
       "3     rewards for good redis helped the wayward chil...   \n",
       "4     sarah is so vain she thinks every man will cel...   \n",
       "...                                                 ...   \n",
       "1271  because the thwor of the shelf was off, it cou...   \n",
       "1272  on the trip, we needed a guide to enesisthe fo...   \n",
       "1273  keeping mulosy with the drummer, the singer ma...   \n",
       "1274  if the rously owner cannot find laborers to pi...   \n",
       "1275  this is a very important task so please do not...   \n",
       "\n",
       "                                                Results  \n",
       "0                                   to affect or affect  \n",
       "1                        to cause something to be taken  \n",
       "2                        able to be done with precision  \n",
       "3                           a good attitude or attitude  \n",
       "4                      to change something or something  \n",
       "...                                                 ...  \n",
       "1271  the length of something that is a part of some...  \n",
       "1272                        to speak or speak something  \n",
       "1273             a song that is played faster or faster  \n",
       "1274  a cotton cotton slack that is used to make a h...  \n",
       "1275                              a very important task  \n",
       "\n",
       "[1276 rows x 5 columns]"
      ]
     },
     "execution_count": 6,
     "metadata": {},
     "output_type": "execute_result"
    }
   ],
   "source": [
    "result_path = '../data/results.csv'\n",
    "result = pd.read_csv(result_path, index_col=0)\n",
    "result"
   ]
  },
  {
   "cell_type": "code",
   "execution_count": 37,
   "metadata": {},
   "outputs": [],
   "source": [
    "def f_instr(ground_truth, pred):\n",
    "    return f\"\"\"\n",
    "The following is a ground truth definition and a ChatGPT-like systems’ outputs. Please rate an overall score on a\n",
    "ten-point scale of the similarity of the output to the ground truth and give explanations to justify your scores.\n",
    "Ground Truth:\n",
    "{ground_truth}\n",
    "\n",
    "System:\n",
    "{pred}\n",
    "\n",
    "Output in the format:\n",
    "Score: x/10\n",
    "Reasoning: ...\n",
    "\"\"\""
   ]
  },
  {
   "cell_type": "code",
   "execution_count": 38,
   "metadata": {},
   "outputs": [],
   "source": [
    "# iterate over entries in results and create an instruction for each\n",
    "instructions = []\n",
    "for i, row in result.iterrows():\n",
    "    instructions.append(f_instr(row['Meaning'], row['Results']))"
   ]
  },
  {
   "cell_type": "code",
   "execution_count": 55,
   "metadata": {},
   "outputs": [
    {
     "name": "stderr",
     "output_type": "stream",
     "text": [
      "1276it [1:02:23,  2.93s/it]\n"
     ]
    }
   ],
   "source": [
    "# gpt4 eval response for each instruction\n",
    "gpt4_responses = []\n",
    "for i, instr in tqdm(enumerate(instructions)):\n",
    "    response = client.chat.completions.create(\n",
    "      model=\"gpt-4\",\n",
    "      messages=[\n",
    "        {\"role\": \"system\", \"content\": \"You are a helpful assistant.\"},\n",
    "        {\"role\": \"user\", \"content\": instr},\n",
    "      ]\n",
    "    )\n",
    "    gpt4_responses.append(response.choices[0].message)"
   ]
  },
  {
   "cell_type": "code",
   "execution_count": 61,
   "metadata": {},
   "outputs": [],
   "source": [
    "# update result df with eval results\n",
    "result['gpt4_eval'] = [repr(gpt4_responses[i].content) for i in range(len(gpt4_responses))]"
   ]
  },
  {
   "cell_type": "code",
   "execution_count": 62,
   "metadata": {},
   "outputs": [],
   "source": [
    "# write to csv\n",
    "result.to_csv(\"../out/t5_eval.csv\")"
   ]
  }
 ],
 "metadata": {
  "kernelspec": {
   "display_name": ".venv",
   "language": "python",
   "name": "python3"
  },
  "language_info": {
   "codemirror_mode": {
    "name": "ipython",
    "version": 3
   },
   "file_extension": ".py",
   "mimetype": "text/x-python",
   "name": "python",
   "nbconvert_exporter": "python",
   "pygments_lexer": "ipython3",
   "version": "3.10.4"
  }
 },
 "nbformat": 4,
 "nbformat_minor": 2
}
