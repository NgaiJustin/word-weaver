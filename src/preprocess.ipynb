{
 "cells": [
  {
   "cell_type": "code",
   "execution_count": 102,
   "metadata": {},
   "outputs": [],
   "source": [
    "import pandas as pd"
   ]
  },
  {
   "cell_type": "markdown",
   "metadata": {},
   "source": [
    "# Preprocess\n",
    "We leverage Google Research's synthetic word generator (published as part of the WinoDict project) to generate a large number of synthetic words. We then combine this with a high quality public dataset that contains words with their associated definition and a few usage examples. We use join the synthetic words with `word_def_usage` dataset to replace the real words with synthetic words to create a new dataset `word_def_usage_synthetic` that contains synthetic words with their associated definition and usage examples."
   ]
  },
  {
   "cell_type": "code",
   "execution_count": 103,
   "metadata": {},
   "outputs": [],
   "source": [
    "word_def_usage_path = \"../data/word-meaning-examples.csv\"\n",
    "synthetic_words_path = \"../data/words_300k.tsv\""
   ]
  },
  {
   "cell_type": "code",
   "execution_count": 104,
   "metadata": {},
   "outputs": [
    {
     "data": {
      "text/plain": [
       "(13143, 12)"
      ]
     },
     "execution_count": 104,
     "metadata": {},
     "output_type": "execute_result"
    }
   ],
   "source": [
    "# Load data\n",
    "word_def_usage_df = pd.read_csv(word_def_usage_path)\n",
    "\n",
    "word_def_usage_df = word_def_usage_df.dropna(\n",
    "    subset=[\"Word\", \"Meaning\", \"Examples/0\"]    # Drop rows with missing values (without at least one example), reset index\n",
    ").reset_index(drop=True)\n",
    "word_def_usage_df.shape"
   ]
  },
  {
   "cell_type": "code",
   "execution_count": 105,
   "metadata": {},
   "outputs": [
    {
     "data": {
      "text/plain": [
       "(866, 12)"
      ]
     },
     "execution_count": 105,
     "metadata": {},
     "output_type": "execute_result"
    }
   ],
   "source": [
    "# 'Word's that are not unique\n",
    "word_def_usage_df[word_def_usage_df['Word'].duplicated(keep=False)].shape"
   ]
  },
  {
   "cell_type": "code",
   "execution_count": 106,
   "metadata": {},
   "outputs": [
    {
     "data": {
      "text/plain": [
       "(55084, 3)"
      ]
     },
     "execution_count": 106,
     "metadata": {},
     "output_type": "execute_result"
    }
   ],
   "source": [
    "synthetic_words_df = pd.read_csv(synthetic_words_path, sep='\\t', names=['Word', 'Score', 'Rules'])\n",
    "synthetic_words_df = synthetic_words_df.dropna().reset_index(drop=True)\n",
    "synthetic_words_df.shape"
   ]
  },
  {
   "cell_type": "code",
   "execution_count": 107,
   "metadata": {},
   "outputs": [
    {
     "data": {
      "text/html": [
       "<div>\n",
       "<style scoped>\n",
       "    .dataframe tbody tr th:only-of-type {\n",
       "        vertical-align: middle;\n",
       "    }\n",
       "\n",
       "    .dataframe tbody tr th {\n",
       "        vertical-align: top;\n",
       "    }\n",
       "\n",
       "    .dataframe thead th {\n",
       "        text-align: right;\n",
       "    }\n",
       "</style>\n",
       "<table border=\"1\" class=\"dataframe\">\n",
       "  <thead>\n",
       "    <tr style=\"text-align: right;\">\n",
       "      <th></th>\n",
       "      <th>Word</th>\n",
       "      <th>Meaning</th>\n",
       "      <th>Examples/0</th>\n",
       "      <th>Examples/1</th>\n",
       "      <th>Examples/2</th>\n",
       "      <th>Examples/3</th>\n",
       "      <th>Examples/4</th>\n",
       "      <th>Examples/5</th>\n",
       "      <th>Examples/6</th>\n",
       "      <th>Examples/7</th>\n",
       "      <th>Examples/8</th>\n",
       "      <th>Examples/9</th>\n",
       "    </tr>\n",
       "  </thead>\n",
       "  <tbody>\n",
       "    <tr>\n",
       "      <th>0</th>\n",
       "      <td>undes</td>\n",
       "      <td>a phrase used to reference a situation that is...</td>\n",
       "      <td>The poor orphan’s life hasn’t been a bed of ro...</td>\n",
       "      <td>Because Mark studied for many weeks, taking th...</td>\n",
       "      <td>The stressed business owner quickly realized t...</td>\n",
       "      <td>nan</td>\n",
       "      <td>nan</td>\n",
       "      <td>nan</td>\n",
       "      <td>nan</td>\n",
       "      <td>nan</td>\n",
       "      <td>nan</td>\n",
       "      <td>nan</td>\n",
       "    </tr>\n",
       "    <tr>\n",
       "      <th>1</th>\n",
       "      <td>undel</td>\n",
       "      <td>something that is believed to be true without ...</td>\n",
       "      <td>Religious people have the a priori belief that...</td>\n",
       "      <td>The jaded woman made a priori assumptions that...</td>\n",
       "      <td>Christopher Columbus had the a priori belief t...</td>\n",
       "      <td>People make a priori assumptions that the sun ...</td>\n",
       "      <td>Lawyers use a priori arguments about their def...</td>\n",
       "      <td>nan</td>\n",
       "      <td>nan</td>\n",
       "      <td>nan</td>\n",
       "      <td>nan</td>\n",
       "      <td>nan</td>\n",
       "    </tr>\n",
       "    <tr>\n",
       "      <th>2</th>\n",
       "      <td>undef</td>\n",
       "      <td>a large, long-eared nocturnal animal that uses...</td>\n",
       "      <td>The long-eared aardvark slept all day and ate ...</td>\n",
       "      <td>With its rabbit like ears and piglike snout, t...</td>\n",
       "      <td>Living a solitary nightlife, the African aardv...</td>\n",
       "      <td>The aardvark is a snouty mammal that dines hea...</td>\n",
       "      <td>Though it is a small mammal, the closest relat...</td>\n",
       "      <td>nan</td>\n",
       "      <td>nan</td>\n",
       "      <td>nan</td>\n",
       "      <td>nan</td>\n",
       "      <td>nan</td>\n",
       "    </tr>\n",
       "    <tr>\n",
       "      <th>3</th>\n",
       "      <td>overy</td>\n",
       "      <td>in amazement; shocked</td>\n",
       "      <td>I was taken aback by the server’s rude comment...</td>\n",
       "      <td>While Amy enjoyed the film as a whole, as a mi...</td>\n",
       "      <td>Ken believed he had a great marriage so he was...</td>\n",
       "      <td>At seventy years of age, Wanda was taken aback...</td>\n",
       "      <td>Although I had been exercising daily and eatin...</td>\n",
       "      <td>nan</td>\n",
       "      <td>nan</td>\n",
       "      <td>nan</td>\n",
       "      <td>nan</td>\n",
       "      <td>nan</td>\n",
       "    </tr>\n",
       "    <tr>\n",
       "      <th>4</th>\n",
       "      <td>overb</td>\n",
       "      <td>toward the stern; behind</td>\n",
       "      <td>The wind was abaft which made the ship glide f...</td>\n",
       "      <td>They placed the lifeboats in the rear part of ...</td>\n",
       "      <td>My first sailing lesson was learning that abaf...</td>\n",
       "      <td>The sea spray was coming from abaft, making my...</td>\n",
       "      <td>I was told to sit abaft to lessen my seasickne...</td>\n",
       "      <td>nan</td>\n",
       "      <td>nan</td>\n",
       "      <td>nan</td>\n",
       "      <td>nan</td>\n",
       "      <td>nan</td>\n",
       "    </tr>\n",
       "  </tbody>\n",
       "</table>\n",
       "</div>"
      ],
      "text/plain": [
       "    Word                                            Meaning  \\\n",
       "0  undes  a phrase used to reference a situation that is...   \n",
       "1  undel  something that is believed to be true without ...   \n",
       "2  undef  a large, long-eared nocturnal animal that uses...   \n",
       "3  overy                              in amazement; shocked   \n",
       "4  overb                           toward the stern; behind   \n",
       "\n",
       "                                          Examples/0  \\\n",
       "0  The poor orphan’s life hasn’t been a bed of ro...   \n",
       "1  Religious people have the a priori belief that...   \n",
       "2  The long-eared aardvark slept all day and ate ...   \n",
       "3  I was taken aback by the server’s rude comment...   \n",
       "4  The wind was abaft which made the ship glide f...   \n",
       "\n",
       "                                          Examples/1  \\\n",
       "0  Because Mark studied for many weeks, taking th...   \n",
       "1  The jaded woman made a priori assumptions that...   \n",
       "2  With its rabbit like ears and piglike snout, t...   \n",
       "3  While Amy enjoyed the film as a whole, as a mi...   \n",
       "4  They placed the lifeboats in the rear part of ...   \n",
       "\n",
       "                                          Examples/2  \\\n",
       "0  The stressed business owner quickly realized t...   \n",
       "1  Christopher Columbus had the a priori belief t...   \n",
       "2  Living a solitary nightlife, the African aardv...   \n",
       "3  Ken believed he had a great marriage so he was...   \n",
       "4  My first sailing lesson was learning that abaf...   \n",
       "\n",
       "                                          Examples/3  \\\n",
       "0                                                nan   \n",
       "1  People make a priori assumptions that the sun ...   \n",
       "2  The aardvark is a snouty mammal that dines hea...   \n",
       "3  At seventy years of age, Wanda was taken aback...   \n",
       "4  The sea spray was coming from abaft, making my...   \n",
       "\n",
       "                                          Examples/4 Examples/5 Examples/6  \\\n",
       "0                                                nan        nan        nan   \n",
       "1  Lawyers use a priori arguments about their def...        nan        nan   \n",
       "2  Though it is a small mammal, the closest relat...        nan        nan   \n",
       "3  Although I had been exercising daily and eatin...        nan        nan   \n",
       "4  I was told to sit abaft to lessen my seasickne...        nan        nan   \n",
       "\n",
       "  Examples/7 Examples/8 Examples/9  \n",
       "0        nan        nan        nan  \n",
       "1        nan        nan        nan  \n",
       "2        nan        nan        nan  \n",
       "3        nan        nan        nan  \n",
       "4        nan        nan        nan  "
      ]
     },
     "execution_count": 107,
     "metadata": {},
     "output_type": "execute_result"
    }
   ],
   "source": [
    "# replace words in word_def_usage_df with words from synthetic_words_df\n",
    "word_def_usage_synthetic_df = word_def_usage_df.copy()\n",
    "\n",
    "\n",
    "def replace_word(i: int):\n",
    "    # replace word\n",
    "    word_def_usage_synthetic_df.Word[i] = synthetic_words_df.Word[i]\n",
    "\n",
    "    # replace word in meaning\n",
    "    word_def_usage_synthetic_df.Meaning[i] = str(\n",
    "        word_def_usage_synthetic_df.Meaning[i]\n",
    "    ).replace(\n",
    "        str(word_def_usage_df.Word[i]),\n",
    "        str(synthetic_words_df.Word[i]),\n",
    "    )\n",
    "\n",
    "    # replace word in examples\n",
    "    for ei in range(10):\n",
    "        example_col_id = f\"Examples/{ei}\"\n",
    "        if word_def_usage_synthetic_df[example_col_id][i] != \"nan\":\n",
    "            word_def_usage_synthetic_df[example_col_id][i] = str(\n",
    "                word_def_usage_synthetic_df[example_col_id][i]\n",
    "            ).replace(\n",
    "                str(word_def_usage_df.Word[i]),\n",
    "                str(synthetic_words_df.Word[i]),\n",
    "            )\n",
    "\n",
    "\n",
    "word_def_usage_df.index.map(lambda i: replace_word(i))\n",
    "word_def_usage_synthetic_df.head()"
   ]
  },
  {
   "cell_type": "code",
   "execution_count": 108,
   "metadata": {},
   "outputs": [
    {
     "data": {
      "text/plain": [
       "((6572, 12), (2628, 12), (3943, 12))"
      ]
     },
     "execution_count": 108,
     "metadata": {},
     "output_type": "execute_result"
    }
   ],
   "source": [
    "# split data into train, test and prompt sets\n",
    "train = 0.5\n",
    "test = 0.2\n",
    "prompt = 0.3\n",
    "\n",
    "train_df = word_def_usage_synthetic_df.sample(frac=train, random_state=42)\n",
    "test_df = word_def_usage_synthetic_df.drop(train_df.index).sample(frac=test / (1 - train), random_state=42)\n",
    "prompt_df = word_def_usage_synthetic_df.drop(train_df.index).drop(test_df.index).sample(frac=prompt / (1 - train - test), random_state=42)\n",
    "\n",
    "train_df.shape, test_df.shape, prompt_df.shape"
   ]
  },
  {
   "cell_type": "code",
   "execution_count": 109,
   "metadata": {},
   "outputs": [
    {
     "name": "stdout",
     "output_type": "stream",
     "text": [
      "(0, 12)\n",
      "(0, 12)\n",
      "(0, 12)\n"
     ]
    }
   ],
   "source": [
    "# verify that there are no duplicates in train, test and prompt sets\n",
    "print(train_df[train_df.duplicated(subset=['Word', 'Meaning'], keep=False)].shape)\n",
    "print(test_df[test_df.duplicated(subset=['Word', 'Meaning'], keep=False)].shape)\n",
    "print(prompt_df[prompt_df.duplicated(subset=['Word', 'Meaning'], keep=False)].shape)"
   ]
  },
  {
   "cell_type": "code",
   "execution_count": 110,
   "metadata": {},
   "outputs": [],
   "source": [
    "# write to csv\n",
    "train_df.to_csv(\"../out/word_def_usage_synthetic_train.csv\", index=False)\n",
    "test_df.to_csv(\"../out/word_def_usage_synthetic_test.csv\", index=False)\n",
    "prompt_df.to_csv(\"../out/word_def_usage_synthetic_prompt.csv\", index=False)"
   ]
  }
 ],
 "metadata": {
  "kernelspec": {
   "display_name": ".venv",
   "language": "python",
   "name": "python3"
  },
  "language_info": {
   "codemirror_mode": {
    "name": "ipython",
    "version": 3
   },
   "file_extension": ".py",
   "mimetype": "text/x-python",
   "name": "python",
   "nbconvert_exporter": "python",
   "pygments_lexer": "ipython3",
   "version": "3.10.4"
  }
 },
 "nbformat": 4,
 "nbformat_minor": 2
}
