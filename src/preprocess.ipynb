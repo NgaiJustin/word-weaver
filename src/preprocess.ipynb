{
 "cells": [
  {
   "cell_type": "code",
   "execution_count": 2,
   "metadata": {},
   "outputs": [],
   "source": [
    "import pandas as pd"
   ]
  },
  {
   "cell_type": "markdown",
   "metadata": {},
   "source": [
    "# Preprocess\n",
    "We leverage Google Research's synthetic word generator (published as part of the WinoDict project) to generate a large number of synthetic words. We then combine this with a high quality public dataset that contains words with their associated definition and a few usage examples. We use join the synthetic words with `word_def_usage` dataset to replace the real words with synthetic words to create a new dataset `word_def_usage_synthetic` that contains synthetic words with their associated definition and usage examples."
   ]
  },
  {
   "cell_type": "code",
   "execution_count": 3,
   "metadata": {},
   "outputs": [],
   "source": [
    "word_def_usage_path = \"../data/word-meaning-examples.csv\"\n",
    "synthetic_words_path = \"../data/words_300k.tsv\""
   ]
  },
  {
   "cell_type": "code",
   "execution_count": 4,
   "metadata": {},
   "outputs": [
    {
     "data": {
      "text/plain": [
       "(13143, 12)"
      ]
     },
     "execution_count": 4,
     "metadata": {},
     "output_type": "execute_result"
    }
   ],
   "source": [
    "# Load data\n",
    "word_def_usage_df = pd.read_csv(word_def_usage_path)\n",
    "\n",
    "word_def_usage_df = word_def_usage_df.dropna(\n",
    "    subset=[\"Word\", \"Meaning\", \"Examples/0\"]    # Drop rows with missing values (without at least one example), reset index\n",
    ").reset_index(drop=True)\n",
    "word_def_usage_df.shape"
   ]
  },
  {
   "cell_type": "code",
   "execution_count": 5,
   "metadata": {},
   "outputs": [
    {
     "data": {
      "text/plain": [
       "(866, 12)"
      ]
     },
     "execution_count": 5,
     "metadata": {},
     "output_type": "execute_result"
    }
   ],
   "source": [
    "# 'Word's that are not unique\n",
    "word_def_usage_df[word_def_usage_df['Word'].duplicated(keep=False)].shape"
   ]
  },
  {
   "cell_type": "code",
   "execution_count": 6,
   "metadata": {},
   "outputs": [
    {
     "data": {
      "text/plain": [
       "(55084, 3)"
      ]
     },
     "execution_count": 6,
     "metadata": {},
     "output_type": "execute_result"
    }
   ],
   "source": [
    "synthetic_words_df = pd.read_csv(synthetic_words_path, sep='\\t', names=['Word', 'Score', 'Rules'])\n",
    "synthetic_words_df = synthetic_words_df.dropna().reset_index(drop=True)\n",
    "synthetic_words_df.shape"
   ]
  },
  {
   "cell_type": "code",
   "execution_count": 14,
   "metadata": {},
   "outputs": [
    {
     "data": {
      "text/html": [
       "<div>\n",
       "<style scoped>\n",
       "    .dataframe tbody tr th:only-of-type {\n",
       "        vertical-align: middle;\n",
       "    }\n",
       "\n",
       "    .dataframe tbody tr th {\n",
       "        vertical-align: top;\n",
       "    }\n",
       "\n",
       "    .dataframe thead th {\n",
       "        text-align: right;\n",
       "    }\n",
       "</style>\n",
       "<table border=\"1\" class=\"dataframe\">\n",
       "  <thead>\n",
       "    <tr style=\"text-align: right;\">\n",
       "      <th></th>\n",
       "      <th>Word</th>\n",
       "      <th>Meaning</th>\n",
       "      <th>Examples/0</th>\n",
       "      <th>Examples/1</th>\n",
       "      <th>Examples/2</th>\n",
       "      <th>Examples/3</th>\n",
       "      <th>Examples/4</th>\n",
       "      <th>Examples/5</th>\n",
       "      <th>Examples/6</th>\n",
       "      <th>Examples/7</th>\n",
       "      <th>Examples/8</th>\n",
       "      <th>Examples/9</th>\n",
       "    </tr>\n",
       "  </thead>\n",
       "  <tbody>\n",
       "    <tr>\n",
       "      <th>0</th>\n",
       "      <td>undes</td>\n",
       "      <td>a phrase used to reference a situation that is...</td>\n",
       "      <td>the poor orphan’s life hasn’t been undes or ea...</td>\n",
       "      <td>because mark studied for many weeks, taking th...</td>\n",
       "      <td>the stressed business owner quickly realized t...</td>\n",
       "      <td>nan</td>\n",
       "      <td>nan</td>\n",
       "      <td>nan</td>\n",
       "      <td>nan</td>\n",
       "      <td>nan</td>\n",
       "      <td>nan</td>\n",
       "      <td>nan</td>\n",
       "    </tr>\n",
       "    <tr>\n",
       "      <th>1</th>\n",
       "      <td>undel</td>\n",
       "      <td>something that is believed to be true without ...</td>\n",
       "      <td>religious people have the undel belief that go...</td>\n",
       "      <td>the jaded woman made undel assumptions that al...</td>\n",
       "      <td>christopher columbus had the undel belief that...</td>\n",
       "      <td>people make undel assumptions that the sun wil...</td>\n",
       "      <td>lawyers use undel arguments about their defend...</td>\n",
       "      <td>nan</td>\n",
       "      <td>nan</td>\n",
       "      <td>nan</td>\n",
       "      <td>nan</td>\n",
       "      <td>nan</td>\n",
       "    </tr>\n",
       "    <tr>\n",
       "      <th>2</th>\n",
       "      <td>undef</td>\n",
       "      <td>a large, long-eared nocturnal animal that uses...</td>\n",
       "      <td>the long-eared undef slept all day and ate ins...</td>\n",
       "      <td>with its rabbit like ears and piglike snout, t...</td>\n",
       "      <td>living a solitary nightlife, the african undef...</td>\n",
       "      <td>the undef is a snouty mammal that dines heavil...</td>\n",
       "      <td>though it is a small mammal, the closest relat...</td>\n",
       "      <td>nan</td>\n",
       "      <td>nan</td>\n",
       "      <td>nan</td>\n",
       "      <td>nan</td>\n",
       "      <td>nan</td>\n",
       "    </tr>\n",
       "    <tr>\n",
       "      <th>3</th>\n",
       "      <td>overy</td>\n",
       "      <td>in amazement; shocked</td>\n",
       "      <td>i was taken overyby the server’s rude comment ...</td>\n",
       "      <td>while amy enjoyed the film as a whole, as a mi...</td>\n",
       "      <td>ken believed he had a great marriage so he was...</td>\n",
       "      <td>at seventy years of age, wanda was taken overy...</td>\n",
       "      <td>although i had been exercising daily and eatin...</td>\n",
       "      <td>nan</td>\n",
       "      <td>nan</td>\n",
       "      <td>nan</td>\n",
       "      <td>nan</td>\n",
       "      <td>nan</td>\n",
       "    </tr>\n",
       "    <tr>\n",
       "      <th>4</th>\n",
       "      <td>overb</td>\n",
       "      <td>toward the stern; behind</td>\n",
       "      <td>the wind was overb which made the ship glide f...</td>\n",
       "      <td>they placed the lifeboats in the rear part of ...</td>\n",
       "      <td>my first sailing lesson was learning that over...</td>\n",
       "      <td>the sea spray was coming from overb, making my...</td>\n",
       "      <td>i was told to sit overb to lessen my seasickne...</td>\n",
       "      <td>nan</td>\n",
       "      <td>nan</td>\n",
       "      <td>nan</td>\n",
       "      <td>nan</td>\n",
       "      <td>nan</td>\n",
       "    </tr>\n",
       "  </tbody>\n",
       "</table>\n",
       "</div>"
      ],
      "text/plain": [
       "    Word                                            Meaning  \\\n",
       "0  undes  a phrase used to reference a situation that is...   \n",
       "1  undel  something that is believed to be true without ...   \n",
       "2  undef  a large, long-eared nocturnal animal that uses...   \n",
       "3  overy                              in amazement; shocked   \n",
       "4  overb                           toward the stern; behind   \n",
       "\n",
       "                                          Examples/0  \\\n",
       "0  the poor orphan’s life hasn’t been undes or ea...   \n",
       "1  religious people have the undel belief that go...   \n",
       "2  the long-eared undef slept all day and ate ins...   \n",
       "3  i was taken overyby the server’s rude comment ...   \n",
       "4  the wind was overb which made the ship glide f...   \n",
       "\n",
       "                                          Examples/1  \\\n",
       "0  because mark studied for many weeks, taking th...   \n",
       "1  the jaded woman made undel assumptions that al...   \n",
       "2  with its rabbit like ears and piglike snout, t...   \n",
       "3  while amy enjoyed the film as a whole, as a mi...   \n",
       "4  they placed the lifeboats in the rear part of ...   \n",
       "\n",
       "                                          Examples/2  \\\n",
       "0  the stressed business owner quickly realized t...   \n",
       "1  christopher columbus had the undel belief that...   \n",
       "2  living a solitary nightlife, the african undef...   \n",
       "3  ken believed he had a great marriage so he was...   \n",
       "4  my first sailing lesson was learning that over...   \n",
       "\n",
       "                                          Examples/3  \\\n",
       "0                                                nan   \n",
       "1  people make undel assumptions that the sun wil...   \n",
       "2  the undef is a snouty mammal that dines heavil...   \n",
       "3  at seventy years of age, wanda was taken overy...   \n",
       "4  the sea spray was coming from overb, making my...   \n",
       "\n",
       "                                          Examples/4 Examples/5 Examples/6  \\\n",
       "0                                                nan        nan        nan   \n",
       "1  lawyers use undel arguments about their defend...        nan        nan   \n",
       "2  though it is a small mammal, the closest relat...        nan        nan   \n",
       "3  although i had been exercising daily and eatin...        nan        nan   \n",
       "4  i was told to sit overb to lessen my seasickne...        nan        nan   \n",
       "\n",
       "  Examples/7 Examples/8 Examples/9  \n",
       "0        nan        nan        nan  \n",
       "1        nan        nan        nan  \n",
       "2        nan        nan        nan  \n",
       "3        nan        nan        nan  \n",
       "4        nan        nan        nan  "
      ]
     },
     "execution_count": 14,
     "metadata": {},
     "output_type": "execute_result"
    }
   ],
   "source": [
    "# replace words in word_def_usage_df with words from synthetic_words_df\n",
    "word_def_usage_synthetic_df = word_def_usage_df.copy()\n",
    "\n",
    "\n",
    "def replace_word(i: int):\n",
    "    # replace word\n",
    "    word_def_usage_synthetic_df.Word[i] = synthetic_words_df.Word[i]\n",
    "\n",
    "    # replace word in meaning\n",
    "    word_def_usage_synthetic_df.Meaning[i] = str(\n",
    "        word_def_usage_synthetic_df.Meaning[i]\n",
    "    ).replace(\n",
    "        str(word_def_usage_df.Word[i]),\n",
    "        str(synthetic_words_df.Word[i]),\n",
    "    )\n",
    "\n",
    "    # replace word in examples\n",
    "    for ei in range(10):\n",
    "        example_col_id = f\"Examples/{ei}\"\n",
    "        if word_def_usage_synthetic_df[example_col_id][i] != \"nan\":\n",
    "            word_def_usage_synthetic_df[example_col_id][i] = str(\n",
    "                word_def_usage_synthetic_df[example_col_id][i]\n",
    "            ).lower().replace(\n",
    "                str(word_def_usage_df.Word[i]).lower(),\n",
    "                str(synthetic_words_df.Word[i]).lower(),\n",
    "            )\n",
    "\n",
    "word_def_usage_df.index.map(lambda i: replace_word(i))\n",
    "word_def_usage_synthetic_df.head()"
   ]
  },
  {
   "cell_type": "code",
   "execution_count": 44,
   "metadata": {},
   "outputs": [
    {
     "name": "stdout",
     "output_type": "stream",
     "text": [
      "since the students want to impress their teacher, they phast perfect behavior in their class.\n",
      "animals typically phast odd behaviors when they are put in uncomfortable situations.\n",
      "it was heartbreaking to see the dog phast such fear by cowering in the corner when its abusive owner came into the room.\n",
      "young children normally phast shyness around strangers they don’t know.\n",
      "the angry fans phast rudeness and disgust toward the rival team by insulting and throwing litter at them.\n"
     ]
    }
   ],
   "source": [
    "i = 3738\n",
    "print(word_def_usage_synthetic_df[\"Examples/0\"][i])\n",
    "print(word_def_usage_synthetic_df[\"Examples/1\"][i])\n",
    "print(word_def_usage_synthetic_df[\"Examples/2\"][i])\n",
    "print(word_def_usage_synthetic_df[\"Examples/3\"][i])\n",
    "print(word_def_usage_synthetic_df[\"Examples/4\"][i])\n",
    "# print(word_def_usage_synthetic_df[\"Meaning\"][i])"
   ]
  },
  {
   "cell_type": "code",
   "execution_count": 45,
   "metadata": {},
   "outputs": [
    {
     "name": "stdout",
     "output_type": "stream",
     "text": [
      "to purposefully show or reveal something\n"
     ]
    }
   ],
   "source": [
    "print(word_def_usage_synthetic_df[\"Meaning\"][i])"
   ]
  },
  {
   "cell_type": "code",
   "execution_count": 46,
   "metadata": {},
   "outputs": [
    {
     "data": {
      "text/plain": [
       "'Exhibit'"
      ]
     },
     "execution_count": 46,
     "metadata": {},
     "output_type": "execute_result"
    }
   ],
   "source": [
    "word_def_usage_df[\"Word\"][i]"
   ]
  },
  {
   "cell_type": "code",
   "execution_count": 47,
   "metadata": {},
   "outputs": [
    {
     "data": {
      "text/plain": [
       "11410"
      ]
     },
     "execution_count": 47,
     "metadata": {},
     "output_type": "execute_result"
    }
   ],
   "source": [
    "sum(word_def_usage_synthetic_df['Examples/4'] != 'nan')"
   ]
  },
  {
   "cell_type": "code",
   "execution_count": 108,
   "metadata": {},
   "outputs": [
    {
     "data": {
      "text/plain": [
       "((6572, 12), (2628, 12), (3943, 12))"
      ]
     },
     "execution_count": 108,
     "metadata": {},
     "output_type": "execute_result"
    }
   ],
   "source": [
    "# split data into train, test and prompt sets\n",
    "train = 0.5\n",
    "test = 0.2\n",
    "prompt = 0.3\n",
    "\n",
    "train_df = word_def_usage_synthetic_df.sample(frac=train, random_state=42)\n",
    "test_df = word_def_usage_synthetic_df.drop(train_df.index).sample(frac=test / (1 - train), random_state=42)\n",
    "prompt_df = word_def_usage_synthetic_df.drop(train_df.index).drop(test_df.index).sample(frac=prompt / (1 - train - test), random_state=42)\n",
    "\n",
    "train_df.shape, test_df.shape, prompt_df.shape"
   ]
  },
  {
   "cell_type": "code",
   "execution_count": 109,
   "metadata": {},
   "outputs": [
    {
     "name": "stdout",
     "output_type": "stream",
     "text": [
      "(0, 12)\n",
      "(0, 12)\n",
      "(0, 12)\n"
     ]
    }
   ],
   "source": [
    "# verify that there are no duplicates in train, test and prompt sets\n",
    "print(train_df[train_df.duplicated(subset=['Word', 'Meaning'], keep=False)].shape)\n",
    "print(test_df[test_df.duplicated(subset=['Word', 'Meaning'], keep=False)].shape)\n",
    "print(prompt_df[prompt_df.duplicated(subset=['Word', 'Meaning'], keep=False)].shape)"
   ]
  },
  {
   "cell_type": "code",
   "execution_count": 110,
   "metadata": {},
   "outputs": [],
   "source": [
    "# write to csv\n",
    "train_df.to_csv(\"../out/word_def_usage_synthetic_train.csv\", index=False)\n",
    "test_df.to_csv(\"../out/word_def_usage_synthetic_test.csv\", index=False)\n",
    "prompt_df.to_csv(\"../out/word_def_usage_synthetic_prompt.csv\", index=False)"
   ]
  }
 ],
 "metadata": {
  "kernelspec": {
   "display_name": ".venv",
   "language": "python",
   "name": "python3"
  },
  "language_info": {
   "codemirror_mode": {
    "name": "ipython",
    "version": 3
   },
   "file_extension": ".py",
   "mimetype": "text/x-python",
   "name": "python",
   "nbconvert_exporter": "python",
   "pygments_lexer": "ipython3",
   "version": "3.10.4"
  }
 },
 "nbformat": 4,
 "nbformat_minor": 2
}
